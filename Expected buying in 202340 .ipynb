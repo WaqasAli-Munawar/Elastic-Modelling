{
 "cells": [
  {
   "cell_type": "code",
   "execution_count": 1,
   "id": "1ff5049c",
   "metadata": {},
   "outputs": [],
   "source": [
    "import pandas as pd\n",
    "import numpy as np"
   ]
  },
  {
   "cell_type": "code",
   "execution_count": 2,
   "id": "a38a8670",
   "metadata": {},
   "outputs": [],
   "source": [
    "eggs = pd.read_csv(\"base_data.csv\")"
   ]
  },
  {
   "cell_type": "code",
   "execution_count": 3,
   "id": "d8078692",
   "metadata": {},
   "outputs": [
    {
     "data": {
      "text/html": [
       "<div>\n",
       "<style scoped>\n",
       "    .dataframe tbody tr th:only-of-type {\n",
       "        vertical-align: middle;\n",
       "    }\n",
       "\n",
       "    .dataframe tbody tr th {\n",
       "        vertical-align: top;\n",
       "    }\n",
       "\n",
       "    .dataframe thead th {\n",
       "        text-align: right;\n",
       "    }\n",
       "</style>\n",
       "<table border=\"1\" class=\"dataframe\">\n",
       "  <thead>\n",
       "    <tr style=\"text-align: right;\">\n",
       "      <th></th>\n",
       "      <th>fisc_wk_id</th>\n",
       "      <th>fisc_wk_strt_dt</th>\n",
       "      <th>mkt_lvl</th>\n",
       "      <th>rgn_shrt_nm</th>\n",
       "      <th>co_nbr</th>\n",
       "      <th>co_shrt_nm</th>\n",
       "      <th>bus_ctr_nm</th>\n",
       "      <th>itm_grp_nm</th>\n",
       "      <th>attr_grp_nm</th>\n",
       "      <th>prc_src_typ_cd</th>\n",
       "      <th>cust_nbr</th>\n",
       "      <th>cuisine_lvl_1_desc</th>\n",
       "      <th>ttl_cases</th>\n",
       "      <th>ttl_sales</th>\n",
       "      <th>ttl_lines</th>\n",
       "      <th>ttl_grs_prft</th>\n",
       "    </tr>\n",
       "  </thead>\n",
       "  <tbody>\n",
       "    <tr>\n",
       "      <th>0</th>\n",
       "      <td>202249</td>\n",
       "      <td>2022-06-05</td>\n",
       "      <td>South</td>\n",
       "      <td>South Texas</td>\n",
       "      <td>67</td>\n",
       "      <td>HOUSTON</td>\n",
       "      <td>DAIRY</td>\n",
       "      <td>EGGS</td>\n",
       "      <td>SHELL EGGS</td>\n",
       "      <td>CEP</td>\n",
       "      <td>1628</td>\n",
       "      <td>Asian</td>\n",
       "      <td>2.0</td>\n",
       "      <td>67.76</td>\n",
       "      <td>1</td>\n",
       "      <td>13.560</td>\n",
       "    </tr>\n",
       "    <tr>\n",
       "      <th>1</th>\n",
       "      <td>202249</td>\n",
       "      <td>2022-06-05</td>\n",
       "      <td>South</td>\n",
       "      <td>South Texas</td>\n",
       "      <td>67</td>\n",
       "      <td>HOUSTON</td>\n",
       "      <td>DAIRY</td>\n",
       "      <td>EGGS</td>\n",
       "      <td>SHELL EGGS</td>\n",
       "      <td>CEP</td>\n",
       "      <td>3129</td>\n",
       "      <td>Latin</td>\n",
       "      <td>2.0</td>\n",
       "      <td>75.90</td>\n",
       "      <td>1</td>\n",
       "      <td>15.704</td>\n",
       "    </tr>\n",
       "    <tr>\n",
       "      <th>2</th>\n",
       "      <td>202249</td>\n",
       "      <td>2022-06-05</td>\n",
       "      <td>South</td>\n",
       "      <td>South Texas</td>\n",
       "      <td>67</td>\n",
       "      <td>HOUSTON</td>\n",
       "      <td>DAIRY</td>\n",
       "      <td>EGGS</td>\n",
       "      <td>SHELL EGGS</td>\n",
       "      <td>CEP</td>\n",
       "      <td>10470</td>\n",
       "      <td>Latin</td>\n",
       "      <td>3.0</td>\n",
       "      <td>113.67</td>\n",
       "      <td>1</td>\n",
       "      <td>23.377</td>\n",
       "    </tr>\n",
       "    <tr>\n",
       "      <th>3</th>\n",
       "      <td>202249</td>\n",
       "      <td>2022-06-05</td>\n",
       "      <td>South</td>\n",
       "      <td>South Texas</td>\n",
       "      <td>67</td>\n",
       "      <td>HOUSTON</td>\n",
       "      <td>DAIRY</td>\n",
       "      <td>EGGS</td>\n",
       "      <td>SHELL EGGS</td>\n",
       "      <td>CEP</td>\n",
       "      <td>11759</td>\n",
       "      <td>Asian</td>\n",
       "      <td>2.0</td>\n",
       "      <td>77.58</td>\n",
       "      <td>1</td>\n",
       "      <td>17.384</td>\n",
       "    </tr>\n",
       "    <tr>\n",
       "      <th>4</th>\n",
       "      <td>202249</td>\n",
       "      <td>2022-06-05</td>\n",
       "      <td>South</td>\n",
       "      <td>South Texas</td>\n",
       "      <td>67</td>\n",
       "      <td>HOUSTON</td>\n",
       "      <td>DAIRY</td>\n",
       "      <td>EGGS</td>\n",
       "      <td>SHELL EGGS</td>\n",
       "      <td>CEP</td>\n",
       "      <td>11846</td>\n",
       "      <td>NaN</td>\n",
       "      <td>5.0</td>\n",
       "      <td>194.90</td>\n",
       "      <td>1</td>\n",
       "      <td>44.412</td>\n",
       "    </tr>\n",
       "  </tbody>\n",
       "</table>\n",
       "</div>"
      ],
      "text/plain": [
       "   fisc_wk_id fisc_wk_strt_dt mkt_lvl  rgn_shrt_nm  co_nbr co_shrt_nm  \\\n",
       "0      202249      2022-06-05   South  South Texas      67    HOUSTON   \n",
       "1      202249      2022-06-05   South  South Texas      67    HOUSTON   \n",
       "2      202249      2022-06-05   South  South Texas      67    HOUSTON   \n",
       "3      202249      2022-06-05   South  South Texas      67    HOUSTON   \n",
       "4      202249      2022-06-05   South  South Texas      67    HOUSTON   \n",
       "\n",
       "  bus_ctr_nm itm_grp_nm attr_grp_nm prc_src_typ_cd  cust_nbr  \\\n",
       "0      DAIRY       EGGS  SHELL EGGS            CEP      1628   \n",
       "1      DAIRY       EGGS  SHELL EGGS            CEP      3129   \n",
       "2      DAIRY       EGGS  SHELL EGGS            CEP     10470   \n",
       "3      DAIRY       EGGS  SHELL EGGS            CEP     11759   \n",
       "4      DAIRY       EGGS  SHELL EGGS            CEP     11846   \n",
       "\n",
       "  cuisine_lvl_1_desc  ttl_cases  ttl_sales  ttl_lines  ttl_grs_prft  \n",
       "0              Asian        2.0      67.76          1        13.560  \n",
       "1              Latin        2.0      75.90          1        15.704  \n",
       "2              Latin        3.0     113.67          1        23.377  \n",
       "3              Asian        2.0      77.58          1        17.384  \n",
       "4                NaN        5.0     194.90          1        44.412  "
      ]
     },
     "execution_count": 3,
     "metadata": {},
     "output_type": "execute_result"
    }
   ],
   "source": [
    "eggs.head()"
   ]
  },
  {
   "cell_type": "code",
   "execution_count": 4,
   "id": "374627ce",
   "metadata": {},
   "outputs": [],
   "source": [
    "customers = eggs[\"cust_nbr\"].unique()"
   ]
  },
  {
   "cell_type": "code",
   "execution_count": 5,
   "id": "e0396033",
   "metadata": {},
   "outputs": [],
   "source": [
    "# databefore 202340\n",
    "\n",
    "e_39 = eggs[eggs[\"fisc_wk_id\"] < 202340]"
   ]
  },
  {
   "cell_type": "code",
   "execution_count": 6,
   "id": "c2825fe6",
   "metadata": {},
   "outputs": [],
   "source": [
    "wk_39 = e_39[\"fisc_wk_id\"].unique()"
   ]
  },
  {
   "cell_type": "code",
   "execution_count": 7,
   "id": "7478bd1f",
   "metadata": {},
   "outputs": [
    {
     "data": {
      "text/plain": [
       "array([202249, 202250, 202251, 202252, 202301, 202302, 202303, 202304,\n",
       "       202305, 202306, 202307, 202308, 202309, 202310, 202311, 202312,\n",
       "       202313, 202314, 202315, 202316, 202317, 202318, 202319, 202320,\n",
       "       202321, 202322, 202323, 202324, 202325, 202326, 202327, 202328,\n",
       "       202329, 202330, 202331, 202332, 202333, 202334, 202335, 202336,\n",
       "       202337, 202338, 202339], dtype=int64)"
      ]
     },
     "execution_count": 7,
     "metadata": {},
     "output_type": "execute_result"
    }
   ],
   "source": [
    "wk_39"
   ]
  },
  {
   "cell_type": "code",
   "execution_count": 8,
   "id": "cf7876d3",
   "metadata": {},
   "outputs": [],
   "source": [
    "full = []\n",
    "for i in customers:\n",
    "    full.append([i]*wk_39.size)"
   ]
  },
  {
   "cell_type": "code",
   "execution_count": 9,
   "id": "5733dd53",
   "metadata": {},
   "outputs": [
    {
     "data": {
      "text/plain": [
       "array([  1628,   1628,   1628, ..., 945998, 945998, 945998], dtype=int64)"
      ]
     },
     "execution_count": 9,
     "metadata": {},
     "output_type": "execute_result"
    }
   ],
   "source": [
    "np.array(full).flatten()"
   ]
  },
  {
   "cell_type": "code",
   "execution_count": 10,
   "id": "ea7a9c39",
   "metadata": {},
   "outputs": [
    {
     "data": {
      "text/plain": [
       "35088"
      ]
     },
     "execution_count": 10,
     "metadata": {},
     "output_type": "execute_result"
    }
   ],
   "source": [
    "len(wk_39.tolist()*customers.size)"
   ]
  },
  {
   "cell_type": "code",
   "execution_count": 11,
   "id": "569d237e",
   "metadata": {},
   "outputs": [],
   "source": [
    "df = pd.DataFrame(wk_39.tolist()*customers.size, columns = [\"fisc_wk\"])"
   ]
  },
  {
   "cell_type": "code",
   "execution_count": 12,
   "id": "df84d27a",
   "metadata": {},
   "outputs": [],
   "source": [
    "df[\"cust\"] = np.array(full).flatten()"
   ]
  },
  {
   "cell_type": "code",
   "execution_count": 13,
   "id": "28506f4d",
   "metadata": {},
   "outputs": [
    {
     "data": {
      "text/html": [
       "<div>\n",
       "<style scoped>\n",
       "    .dataframe tbody tr th:only-of-type {\n",
       "        vertical-align: middle;\n",
       "    }\n",
       "\n",
       "    .dataframe tbody tr th {\n",
       "        vertical-align: top;\n",
       "    }\n",
       "\n",
       "    .dataframe thead th {\n",
       "        text-align: right;\n",
       "    }\n",
       "</style>\n",
       "<table border=\"1\" class=\"dataframe\">\n",
       "  <thead>\n",
       "    <tr style=\"text-align: right;\">\n",
       "      <th></th>\n",
       "      <th>fisc_wk</th>\n",
       "      <th>cust</th>\n",
       "    </tr>\n",
       "  </thead>\n",
       "  <tbody>\n",
       "    <tr>\n",
       "      <th>0</th>\n",
       "      <td>202249</td>\n",
       "      <td>1628</td>\n",
       "    </tr>\n",
       "    <tr>\n",
       "      <th>1</th>\n",
       "      <td>202250</td>\n",
       "      <td>1628</td>\n",
       "    </tr>\n",
       "    <tr>\n",
       "      <th>2</th>\n",
       "      <td>202251</td>\n",
       "      <td>1628</td>\n",
       "    </tr>\n",
       "    <tr>\n",
       "      <th>3</th>\n",
       "      <td>202252</td>\n",
       "      <td>1628</td>\n",
       "    </tr>\n",
       "    <tr>\n",
       "      <th>4</th>\n",
       "      <td>202301</td>\n",
       "      <td>1628</td>\n",
       "    </tr>\n",
       "    <tr>\n",
       "      <th>...</th>\n",
       "      <td>...</td>\n",
       "      <td>...</td>\n",
       "    </tr>\n",
       "    <tr>\n",
       "      <th>35083</th>\n",
       "      <td>202335</td>\n",
       "      <td>945998</td>\n",
       "    </tr>\n",
       "    <tr>\n",
       "      <th>35084</th>\n",
       "      <td>202336</td>\n",
       "      <td>945998</td>\n",
       "    </tr>\n",
       "    <tr>\n",
       "      <th>35085</th>\n",
       "      <td>202337</td>\n",
       "      <td>945998</td>\n",
       "    </tr>\n",
       "    <tr>\n",
       "      <th>35086</th>\n",
       "      <td>202338</td>\n",
       "      <td>945998</td>\n",
       "    </tr>\n",
       "    <tr>\n",
       "      <th>35087</th>\n",
       "      <td>202339</td>\n",
       "      <td>945998</td>\n",
       "    </tr>\n",
       "  </tbody>\n",
       "</table>\n",
       "<p>35088 rows × 2 columns</p>\n",
       "</div>"
      ],
      "text/plain": [
       "       fisc_wk    cust\n",
       "0       202249    1628\n",
       "1       202250    1628\n",
       "2       202251    1628\n",
       "3       202252    1628\n",
       "4       202301    1628\n",
       "...        ...     ...\n",
       "35083   202335  945998\n",
       "35084   202336  945998\n",
       "35085   202337  945998\n",
       "35086   202338  945998\n",
       "35087   202339  945998\n",
       "\n",
       "[35088 rows x 2 columns]"
      ]
     },
     "execution_count": 13,
     "metadata": {},
     "output_type": "execute_result"
    }
   ],
   "source": [
    "df"
   ]
  },
  {
   "cell_type": "code",
   "execution_count": 14,
   "id": "95ede92c",
   "metadata": {},
   "outputs": [],
   "source": [
    "right = e_39[[\"fisc_wk_id\",\"cust_nbr\"]]"
   ]
  },
  {
   "cell_type": "code",
   "execution_count": 15,
   "id": "5c8ee64e",
   "metadata": {},
   "outputs": [],
   "source": [
    "final = df.merge(right, left_on=[\"fisc_wk\",\"cust\"], right_on = [\"fisc_wk_id\",\"cust_nbr\"], how = \"left\")"
   ]
  },
  {
   "cell_type": "code",
   "execution_count": 16,
   "id": "bc7b9d7d",
   "metadata": {},
   "outputs": [],
   "source": [
    "final[\"Purchases\"] = 0"
   ]
  },
  {
   "cell_type": "code",
   "execution_count": 17,
   "id": "fad8cb4e",
   "metadata": {},
   "outputs": [],
   "source": [
    "final.loc[final[\"cust_nbr\"].notnull(),\"Purchases\"] = 1"
   ]
  },
  {
   "cell_type": "code",
   "execution_count": 18,
   "id": "c8a00198",
   "metadata": {},
   "outputs": [
    {
     "data": {
      "text/html": [
       "<div>\n",
       "<style scoped>\n",
       "    .dataframe tbody tr th:only-of-type {\n",
       "        vertical-align: middle;\n",
       "    }\n",
       "\n",
       "    .dataframe tbody tr th {\n",
       "        vertical-align: top;\n",
       "    }\n",
       "\n",
       "    .dataframe thead th {\n",
       "        text-align: right;\n",
       "    }\n",
       "</style>\n",
       "<table border=\"1\" class=\"dataframe\">\n",
       "  <thead>\n",
       "    <tr style=\"text-align: right;\">\n",
       "      <th></th>\n",
       "      <th>fisc_wk</th>\n",
       "      <th>cust</th>\n",
       "      <th>fisc_wk_id</th>\n",
       "      <th>cust_nbr</th>\n",
       "      <th>Purchases</th>\n",
       "    </tr>\n",
       "  </thead>\n",
       "  <tbody>\n",
       "    <tr>\n",
       "      <th>0</th>\n",
       "      <td>202249</td>\n",
       "      <td>1628</td>\n",
       "      <td>202249.0</td>\n",
       "      <td>1628.0</td>\n",
       "      <td>1</td>\n",
       "    </tr>\n",
       "    <tr>\n",
       "      <th>1</th>\n",
       "      <td>202250</td>\n",
       "      <td>1628</td>\n",
       "      <td>202250.0</td>\n",
       "      <td>1628.0</td>\n",
       "      <td>1</td>\n",
       "    </tr>\n",
       "    <tr>\n",
       "      <th>2</th>\n",
       "      <td>202251</td>\n",
       "      <td>1628</td>\n",
       "      <td>202251.0</td>\n",
       "      <td>1628.0</td>\n",
       "      <td>1</td>\n",
       "    </tr>\n",
       "    <tr>\n",
       "      <th>3</th>\n",
       "      <td>202252</td>\n",
       "      <td>1628</td>\n",
       "      <td>NaN</td>\n",
       "      <td>NaN</td>\n",
       "      <td>0</td>\n",
       "    </tr>\n",
       "    <tr>\n",
       "      <th>4</th>\n",
       "      <td>202301</td>\n",
       "      <td>1628</td>\n",
       "      <td>NaN</td>\n",
       "      <td>NaN</td>\n",
       "      <td>0</td>\n",
       "    </tr>\n",
       "    <tr>\n",
       "      <th>...</th>\n",
       "      <td>...</td>\n",
       "      <td>...</td>\n",
       "      <td>...</td>\n",
       "      <td>...</td>\n",
       "      <td>...</td>\n",
       "    </tr>\n",
       "    <tr>\n",
       "      <th>35083</th>\n",
       "      <td>202335</td>\n",
       "      <td>945998</td>\n",
       "      <td>NaN</td>\n",
       "      <td>NaN</td>\n",
       "      <td>0</td>\n",
       "    </tr>\n",
       "    <tr>\n",
       "      <th>35084</th>\n",
       "      <td>202336</td>\n",
       "      <td>945998</td>\n",
       "      <td>NaN</td>\n",
       "      <td>NaN</td>\n",
       "      <td>0</td>\n",
       "    </tr>\n",
       "    <tr>\n",
       "      <th>35085</th>\n",
       "      <td>202337</td>\n",
       "      <td>945998</td>\n",
       "      <td>NaN</td>\n",
       "      <td>NaN</td>\n",
       "      <td>0</td>\n",
       "    </tr>\n",
       "    <tr>\n",
       "      <th>35086</th>\n",
       "      <td>202338</td>\n",
       "      <td>945998</td>\n",
       "      <td>NaN</td>\n",
       "      <td>NaN</td>\n",
       "      <td>0</td>\n",
       "    </tr>\n",
       "    <tr>\n",
       "      <th>35087</th>\n",
       "      <td>202339</td>\n",
       "      <td>945998</td>\n",
       "      <td>NaN</td>\n",
       "      <td>NaN</td>\n",
       "      <td>0</td>\n",
       "    </tr>\n",
       "  </tbody>\n",
       "</table>\n",
       "<p>35088 rows × 5 columns</p>\n",
       "</div>"
      ],
      "text/plain": [
       "       fisc_wk    cust  fisc_wk_id  cust_nbr  Purchases\n",
       "0       202249    1628    202249.0    1628.0          1\n",
       "1       202250    1628    202250.0    1628.0          1\n",
       "2       202251    1628    202251.0    1628.0          1\n",
       "3       202252    1628         NaN       NaN          0\n",
       "4       202301    1628         NaN       NaN          0\n",
       "...        ...     ...         ...       ...        ...\n",
       "35083   202335  945998         NaN       NaN          0\n",
       "35084   202336  945998         NaN       NaN          0\n",
       "35085   202337  945998         NaN       NaN          0\n",
       "35086   202338  945998         NaN       NaN          0\n",
       "35087   202339  945998         NaN       NaN          0\n",
       "\n",
       "[35088 rows x 5 columns]"
      ]
     },
     "execution_count": 18,
     "metadata": {},
     "output_type": "execute_result"
    }
   ],
   "source": [
    "final"
   ]
  },
  {
   "cell_type": "code",
   "execution_count": 19,
   "id": "97eada1b",
   "metadata": {},
   "outputs": [
    {
     "data": {
      "text/plain": [
       "Index(['fisc_wk', 'cust', 'fisc_wk_id', 'cust_nbr', 'Purchases'], dtype='object')"
      ]
     },
     "execution_count": 19,
     "metadata": {},
     "output_type": "execute_result"
    }
   ],
   "source": [
    "final.columns"
   ]
  },
  {
   "cell_type": "code",
   "execution_count": 20,
   "id": "dc9ec6f6",
   "metadata": {},
   "outputs": [],
   "source": [
    "final = final[['fisc_wk', 'cust', 'Purchases']].sort_values(\"fisc_wk\").reset_index(drop= True)"
   ]
  },
  {
   "cell_type": "code",
   "execution_count": 21,
   "id": "f3c7c674",
   "metadata": {},
   "outputs": [],
   "source": [
    "final.columns = [\"fisc_wk_id\",\"cust_nbr\",'Purchases']"
   ]
  },
  {
   "cell_type": "code",
   "execution_count": 22,
   "id": "6b696c6e",
   "metadata": {},
   "outputs": [
    {
     "data": {
      "text/html": [
       "<div>\n",
       "<style scoped>\n",
       "    .dataframe tbody tr th:only-of-type {\n",
       "        vertical-align: middle;\n",
       "    }\n",
       "\n",
       "    .dataframe tbody tr th {\n",
       "        vertical-align: top;\n",
       "    }\n",
       "\n",
       "    .dataframe thead th {\n",
       "        text-align: right;\n",
       "    }\n",
       "</style>\n",
       "<table border=\"1\" class=\"dataframe\">\n",
       "  <thead>\n",
       "    <tr style=\"text-align: right;\">\n",
       "      <th></th>\n",
       "      <th>fisc_wk_id</th>\n",
       "      <th>cust_nbr</th>\n",
       "      <th>Purchases</th>\n",
       "    </tr>\n",
       "  </thead>\n",
       "  <tbody>\n",
       "    <tr>\n",
       "      <th>0</th>\n",
       "      <td>202249</td>\n",
       "      <td>1628</td>\n",
       "      <td>1</td>\n",
       "    </tr>\n",
       "    <tr>\n",
       "      <th>1</th>\n",
       "      <td>202249</td>\n",
       "      <td>732420</td>\n",
       "      <td>0</td>\n",
       "    </tr>\n",
       "    <tr>\n",
       "      <th>2</th>\n",
       "      <td>202249</td>\n",
       "      <td>925347</td>\n",
       "      <td>0</td>\n",
       "    </tr>\n",
       "    <tr>\n",
       "      <th>3</th>\n",
       "      <td>202249</td>\n",
       "      <td>733840</td>\n",
       "      <td>0</td>\n",
       "    </tr>\n",
       "    <tr>\n",
       "      <th>4</th>\n",
       "      <td>202249</td>\n",
       "      <td>917344</td>\n",
       "      <td>0</td>\n",
       "    </tr>\n",
       "    <tr>\n",
       "      <th>...</th>\n",
       "      <td>...</td>\n",
       "      <td>...</td>\n",
       "      <td>...</td>\n",
       "    </tr>\n",
       "    <tr>\n",
       "      <th>35083</th>\n",
       "      <td>202339</td>\n",
       "      <td>25818</td>\n",
       "      <td>0</td>\n",
       "    </tr>\n",
       "    <tr>\n",
       "      <th>35084</th>\n",
       "      <td>202339</td>\n",
       "      <td>23485</td>\n",
       "      <td>0</td>\n",
       "    </tr>\n",
       "    <tr>\n",
       "      <th>35085</th>\n",
       "      <td>202339</td>\n",
       "      <td>13484</td>\n",
       "      <td>0</td>\n",
       "    </tr>\n",
       "    <tr>\n",
       "      <th>35086</th>\n",
       "      <td>202339</td>\n",
       "      <td>963249</td>\n",
       "      <td>0</td>\n",
       "    </tr>\n",
       "    <tr>\n",
       "      <th>35087</th>\n",
       "      <td>202339</td>\n",
       "      <td>945998</td>\n",
       "      <td>0</td>\n",
       "    </tr>\n",
       "  </tbody>\n",
       "</table>\n",
       "<p>35088 rows × 3 columns</p>\n",
       "</div>"
      ],
      "text/plain": [
       "       fisc_wk_id  cust_nbr  Purchases\n",
       "0          202249      1628          1\n",
       "1          202249    732420          0\n",
       "2          202249    925347          0\n",
       "3          202249    733840          0\n",
       "4          202249    917344          0\n",
       "...           ...       ...        ...\n",
       "35083      202339     25818          0\n",
       "35084      202339     23485          0\n",
       "35085      202339     13484          0\n",
       "35086      202339    963249          0\n",
       "35087      202339    945998          0\n",
       "\n",
       "[35088 rows x 3 columns]"
      ]
     },
     "execution_count": 22,
     "metadata": {},
     "output_type": "execute_result"
    }
   ],
   "source": [
    "final"
   ]
  },
  {
   "cell_type": "code",
   "execution_count": 23,
   "id": "7bee4914",
   "metadata": {},
   "outputs": [],
   "source": [
    "final.to_csv(\"purchasing_202339.csv\", index = False)"
   ]
  },
  {
   "cell_type": "code",
   "execution_count": 24,
   "id": "e3167242",
   "metadata": {},
   "outputs": [
    {
     "data": {
      "text/plain": [
       "(6135, 16)"
      ]
     },
     "execution_count": 24,
     "metadata": {},
     "output_type": "execute_result"
    }
   ],
   "source": [
    "eggs.shape"
   ]
  },
  {
   "cell_type": "code",
   "execution_count": 25,
   "id": "9982646b",
   "metadata": {},
   "outputs": [
    {
     "data": {
      "text/plain": [
       "(35088, 3)"
      ]
     },
     "execution_count": 25,
     "metadata": {},
     "output_type": "execute_result"
    }
   ],
   "source": [
    "final.shape"
   ]
  },
  {
   "cell_type": "code",
   "execution_count": 26,
   "id": "85ebc131",
   "metadata": {},
   "outputs": [
    {
     "name": "stdout",
     "output_type": "stream",
     "text": [
      "<class 'pandas.core.frame.DataFrame'>\n",
      "RangeIndex: 35088 entries, 0 to 35087\n",
      "Data columns (total 3 columns):\n",
      " #   Column      Non-Null Count  Dtype\n",
      "---  ------      --------------  -----\n",
      " 0   fisc_wk_id  35088 non-null  int64\n",
      " 1   cust_nbr    35088 non-null  int64\n",
      " 2   Purchases   35088 non-null  int64\n",
      "dtypes: int64(3)\n",
      "memory usage: 822.5 KB\n"
     ]
    }
   ],
   "source": [
    "final.info()"
   ]
  },
  {
   "cell_type": "code",
   "execution_count": 71,
   "id": "7c64131f",
   "metadata": {},
   "outputs": [],
   "source": [
    "from sklearn.model_selection import train_test_split\n",
    "from sklearn.ensemble import RandomForestClassifier\n",
    "\n",
    "from sklearn.linear_model import LogisticRegression"
   ]
  },
  {
   "cell_type": "code",
   "execution_count": 28,
   "id": "93ea7cec",
   "metadata": {},
   "outputs": [],
   "source": [
    "final['year'] = final['fisc_wk_id'].astype(str).str[:4].astype(int)\n",
    "final['week'] = final['fisc_wk_id'].astype(str).str[4:].astype(int)"
   ]
  },
  {
   "cell_type": "code",
   "execution_count": 29,
   "id": "1682499e",
   "metadata": {},
   "outputs": [],
   "source": [
    "X = final[['year', 'week', 'cust_nbr']]\n",
    "y = final['Purchases']"
   ]
  },
  {
   "cell_type": "code",
   "execution_count": 30,
   "id": "bab59f09",
   "metadata": {},
   "outputs": [],
   "source": [
    "# X_train, X_test, y_train, y_test = train_test_split(X, y, test_size=0.2, random_state=42)"
   ]
  },
  {
   "cell_type": "code",
   "execution_count": 31,
   "id": "3c0b71b3",
   "metadata": {},
   "outputs": [
    {
     "data": {
      "text/html": [
       "<style>#sk-container-id-1 {color: black;background-color: white;}#sk-container-id-1 pre{padding: 0;}#sk-container-id-1 div.sk-toggleable {background-color: white;}#sk-container-id-1 label.sk-toggleable__label {cursor: pointer;display: block;width: 100%;margin-bottom: 0;padding: 0.3em;box-sizing: border-box;text-align: center;}#sk-container-id-1 label.sk-toggleable__label-arrow:before {content: \"▸\";float: left;margin-right: 0.25em;color: #696969;}#sk-container-id-1 label.sk-toggleable__label-arrow:hover:before {color: black;}#sk-container-id-1 div.sk-estimator:hover label.sk-toggleable__label-arrow:before {color: black;}#sk-container-id-1 div.sk-toggleable__content {max-height: 0;max-width: 0;overflow: hidden;text-align: left;background-color: #f0f8ff;}#sk-container-id-1 div.sk-toggleable__content pre {margin: 0.2em;color: black;border-radius: 0.25em;background-color: #f0f8ff;}#sk-container-id-1 input.sk-toggleable__control:checked~div.sk-toggleable__content {max-height: 200px;max-width: 100%;overflow: auto;}#sk-container-id-1 input.sk-toggleable__control:checked~label.sk-toggleable__label-arrow:before {content: \"▾\";}#sk-container-id-1 div.sk-estimator input.sk-toggleable__control:checked~label.sk-toggleable__label {background-color: #d4ebff;}#sk-container-id-1 div.sk-label input.sk-toggleable__control:checked~label.sk-toggleable__label {background-color: #d4ebff;}#sk-container-id-1 input.sk-hidden--visually {border: 0;clip: rect(1px 1px 1px 1px);clip: rect(1px, 1px, 1px, 1px);height: 1px;margin: -1px;overflow: hidden;padding: 0;position: absolute;width: 1px;}#sk-container-id-1 div.sk-estimator {font-family: monospace;background-color: #f0f8ff;border: 1px dotted black;border-radius: 0.25em;box-sizing: border-box;margin-bottom: 0.5em;}#sk-container-id-1 div.sk-estimator:hover {background-color: #d4ebff;}#sk-container-id-1 div.sk-parallel-item::after {content: \"\";width: 100%;border-bottom: 1px solid gray;flex-grow: 1;}#sk-container-id-1 div.sk-label:hover label.sk-toggleable__label {background-color: #d4ebff;}#sk-container-id-1 div.sk-serial::before {content: \"\";position: absolute;border-left: 1px solid gray;box-sizing: border-box;top: 0;bottom: 0;left: 50%;z-index: 0;}#sk-container-id-1 div.sk-serial {display: flex;flex-direction: column;align-items: center;background-color: white;padding-right: 0.2em;padding-left: 0.2em;position: relative;}#sk-container-id-1 div.sk-item {position: relative;z-index: 1;}#sk-container-id-1 div.sk-parallel {display: flex;align-items: stretch;justify-content: center;background-color: white;position: relative;}#sk-container-id-1 div.sk-item::before, #sk-container-id-1 div.sk-parallel-item::before {content: \"\";position: absolute;border-left: 1px solid gray;box-sizing: border-box;top: 0;bottom: 0;left: 50%;z-index: -1;}#sk-container-id-1 div.sk-parallel-item {display: flex;flex-direction: column;z-index: 1;position: relative;background-color: white;}#sk-container-id-1 div.sk-parallel-item:first-child::after {align-self: flex-end;width: 50%;}#sk-container-id-1 div.sk-parallel-item:last-child::after {align-self: flex-start;width: 50%;}#sk-container-id-1 div.sk-parallel-item:only-child::after {width: 0;}#sk-container-id-1 div.sk-dashed-wrapped {border: 1px dashed gray;margin: 0 0.4em 0.5em 0.4em;box-sizing: border-box;padding-bottom: 0.4em;background-color: white;}#sk-container-id-1 div.sk-label label {font-family: monospace;font-weight: bold;display: inline-block;line-height: 1.2em;}#sk-container-id-1 div.sk-label-container {text-align: center;}#sk-container-id-1 div.sk-container {/* jupyter's `normalize.less` sets `[hidden] { display: none; }` but bootstrap.min.css set `[hidden] { display: none !important; }` so we also need the `!important` here to be able to override the default hidden behavior on the sphinx rendered scikit-learn.org. See: https://github.com/scikit-learn/scikit-learn/issues/21755 */display: inline-block !important;position: relative;}#sk-container-id-1 div.sk-text-repr-fallback {display: none;}</style><div id=\"sk-container-id-1\" class=\"sk-top-container\"><div class=\"sk-text-repr-fallback\"><pre>RandomForestClassifier()</pre><b>In a Jupyter environment, please rerun this cell to show the HTML representation or trust the notebook. <br />On GitHub, the HTML representation is unable to render, please try loading this page with nbviewer.org.</b></div><div class=\"sk-container\" hidden><div class=\"sk-item\"><div class=\"sk-estimator sk-toggleable\"><input class=\"sk-toggleable__control sk-hidden--visually\" id=\"sk-estimator-id-1\" type=\"checkbox\" checked><label for=\"sk-estimator-id-1\" class=\"sk-toggleable__label sk-toggleable__label-arrow\">RandomForestClassifier</label><div class=\"sk-toggleable__content\"><pre>RandomForestClassifier()</pre></div></div></div></div></div>"
      ],
      "text/plain": [
       "RandomForestClassifier()"
      ]
     },
     "execution_count": 31,
     "metadata": {},
     "output_type": "execute_result"
    }
   ],
   "source": [
    "# Initialize the RandomForestClassifier\n",
    "rf_classifier = RandomForestClassifier()\n",
    "\n",
    "# Fit the model on the training data\n",
    "# rf_classifier.fit(X_train, y_train)\n",
    "rf_classifier.fit(X, y)\n"
   ]
  },
  {
   "cell_type": "code",
   "execution_count": 72,
   "id": "18fb86ed",
   "metadata": {},
   "outputs": [
    {
     "data": {
      "text/html": [
       "<style>#sk-container-id-2 {color: black;background-color: white;}#sk-container-id-2 pre{padding: 0;}#sk-container-id-2 div.sk-toggleable {background-color: white;}#sk-container-id-2 label.sk-toggleable__label {cursor: pointer;display: block;width: 100%;margin-bottom: 0;padding: 0.3em;box-sizing: border-box;text-align: center;}#sk-container-id-2 label.sk-toggleable__label-arrow:before {content: \"▸\";float: left;margin-right: 0.25em;color: #696969;}#sk-container-id-2 label.sk-toggleable__label-arrow:hover:before {color: black;}#sk-container-id-2 div.sk-estimator:hover label.sk-toggleable__label-arrow:before {color: black;}#sk-container-id-2 div.sk-toggleable__content {max-height: 0;max-width: 0;overflow: hidden;text-align: left;background-color: #f0f8ff;}#sk-container-id-2 div.sk-toggleable__content pre {margin: 0.2em;color: black;border-radius: 0.25em;background-color: #f0f8ff;}#sk-container-id-2 input.sk-toggleable__control:checked~div.sk-toggleable__content {max-height: 200px;max-width: 100%;overflow: auto;}#sk-container-id-2 input.sk-toggleable__control:checked~label.sk-toggleable__label-arrow:before {content: \"▾\";}#sk-container-id-2 div.sk-estimator input.sk-toggleable__control:checked~label.sk-toggleable__label {background-color: #d4ebff;}#sk-container-id-2 div.sk-label input.sk-toggleable__control:checked~label.sk-toggleable__label {background-color: #d4ebff;}#sk-container-id-2 input.sk-hidden--visually {border: 0;clip: rect(1px 1px 1px 1px);clip: rect(1px, 1px, 1px, 1px);height: 1px;margin: -1px;overflow: hidden;padding: 0;position: absolute;width: 1px;}#sk-container-id-2 div.sk-estimator {font-family: monospace;background-color: #f0f8ff;border: 1px dotted black;border-radius: 0.25em;box-sizing: border-box;margin-bottom: 0.5em;}#sk-container-id-2 div.sk-estimator:hover {background-color: #d4ebff;}#sk-container-id-2 div.sk-parallel-item::after {content: \"\";width: 100%;border-bottom: 1px solid gray;flex-grow: 1;}#sk-container-id-2 div.sk-label:hover label.sk-toggleable__label {background-color: #d4ebff;}#sk-container-id-2 div.sk-serial::before {content: \"\";position: absolute;border-left: 1px solid gray;box-sizing: border-box;top: 0;bottom: 0;left: 50%;z-index: 0;}#sk-container-id-2 div.sk-serial {display: flex;flex-direction: column;align-items: center;background-color: white;padding-right: 0.2em;padding-left: 0.2em;position: relative;}#sk-container-id-2 div.sk-item {position: relative;z-index: 1;}#sk-container-id-2 div.sk-parallel {display: flex;align-items: stretch;justify-content: center;background-color: white;position: relative;}#sk-container-id-2 div.sk-item::before, #sk-container-id-2 div.sk-parallel-item::before {content: \"\";position: absolute;border-left: 1px solid gray;box-sizing: border-box;top: 0;bottom: 0;left: 50%;z-index: -1;}#sk-container-id-2 div.sk-parallel-item {display: flex;flex-direction: column;z-index: 1;position: relative;background-color: white;}#sk-container-id-2 div.sk-parallel-item:first-child::after {align-self: flex-end;width: 50%;}#sk-container-id-2 div.sk-parallel-item:last-child::after {align-self: flex-start;width: 50%;}#sk-container-id-2 div.sk-parallel-item:only-child::after {width: 0;}#sk-container-id-2 div.sk-dashed-wrapped {border: 1px dashed gray;margin: 0 0.4em 0.5em 0.4em;box-sizing: border-box;padding-bottom: 0.4em;background-color: white;}#sk-container-id-2 div.sk-label label {font-family: monospace;font-weight: bold;display: inline-block;line-height: 1.2em;}#sk-container-id-2 div.sk-label-container {text-align: center;}#sk-container-id-2 div.sk-container {/* jupyter's `normalize.less` sets `[hidden] { display: none; }` but bootstrap.min.css set `[hidden] { display: none !important; }` so we also need the `!important` here to be able to override the default hidden behavior on the sphinx rendered scikit-learn.org. See: https://github.com/scikit-learn/scikit-learn/issues/21755 */display: inline-block !important;position: relative;}#sk-container-id-2 div.sk-text-repr-fallback {display: none;}</style><div id=\"sk-container-id-2\" class=\"sk-top-container\"><div class=\"sk-text-repr-fallback\"><pre>LogisticRegression()</pre><b>In a Jupyter environment, please rerun this cell to show the HTML representation or trust the notebook. <br />On GitHub, the HTML representation is unable to render, please try loading this page with nbviewer.org.</b></div><div class=\"sk-container\" hidden><div class=\"sk-item\"><div class=\"sk-estimator sk-toggleable\"><input class=\"sk-toggleable__control sk-hidden--visually\" id=\"sk-estimator-id-2\" type=\"checkbox\" checked><label for=\"sk-estimator-id-2\" class=\"sk-toggleable__label sk-toggleable__label-arrow\">LogisticRegression</label><div class=\"sk-toggleable__content\"><pre>LogisticRegression()</pre></div></div></div></div></div>"
      ],
      "text/plain": [
       "LogisticRegression()"
      ]
     },
     "execution_count": 72,
     "metadata": {},
     "output_type": "execute_result"
    }
   ],
   "source": [
    "# Initialize the RandomForestClassifier\n",
    "lr_classifier = LogisticRegression()\n",
    "\n",
    "# Fit the model on the training data\n",
    "# rf_classifier.fit(X_train, y_train)\n",
    "lr_classifier.fit(X, y)\n"
   ]
  },
  {
   "cell_type": "code",
   "execution_count": 32,
   "id": "4bf012de",
   "metadata": {},
   "outputs": [],
   "source": [
    "wk_40 = eggs[eggs[\"fisc_wk_id\"] == 202340]"
   ]
  },
  {
   "cell_type": "code",
   "execution_count": 33,
   "id": "8f7f8954",
   "metadata": {},
   "outputs": [],
   "source": [
    "# cust_nbr_list = wk_40[\"cust_nbr\"].tolist()\n",
    "\n",
    "cust_nbr_list = customers.tolist()"
   ]
  },
  {
   "cell_type": "code",
   "execution_count": 34,
   "id": "ead44daf",
   "metadata": {},
   "outputs": [],
   "source": [
    "\n",
    "week_202340_cust_nbr = pd.DataFrame({\n",
    "    'year': [2023] * len(cust_nbr_list),  \n",
    "    'week': [40] * len(cust_nbr_list), \n",
    "    'cust_nbr': cust_nbr_list \n",
    "})\n",
    "\n",
    "# Make predictions for week 202340\n",
    "predictions = rf_classifier.predict(week_202340_cust_nbr)\n"
   ]
  },
  {
   "cell_type": "code",
   "execution_count": 74,
   "id": "4ccf42e2",
   "metadata": {},
   "outputs": [],
   "source": [
    "lr_predictions = lr_classifier.predict(week_202340_cust_nbr)"
   ]
  },
  {
   "cell_type": "code",
   "execution_count": 76,
   "id": "d070ec0b",
   "metadata": {},
   "outputs": [
    {
     "data": {
      "text/plain": [
       "array([[0.7 , 0.3 ],\n",
       "       [0.92, 0.08],\n",
       "       [0.88, 0.12],\n",
       "       [0.94, 0.06],\n",
       "       [0.16, 0.84],\n",
       "       [0.16, 0.84],\n",
       "       [0.87, 0.13],\n",
       "       [0.93, 0.07]])"
      ]
     },
     "execution_count": 76,
     "metadata": {},
     "output_type": "execute_result"
    }
   ],
   "source": [
    "rf_classifier.predict_proba(week_202340_cust_nbr)[:8]"
   ]
  },
  {
   "cell_type": "code",
   "execution_count": 55,
   "id": "53547817",
   "metadata": {},
   "outputs": [
    {
     "data": {
      "text/plain": [
       "array([0, 0, 0, 0, 1, 1, 0, 0, 0, 0, 0, 0, 1, 1, 0, 1, 0, 0, 1, 0, 0, 0,\n",
       "       0, 0, 1, 0, 0, 0, 0, 0, 0, 0, 0, 0, 1, 1, 1, 0, 0, 1, 1, 0, 0, 0,\n",
       "       0, 0, 1, 0, 0, 0, 0, 0, 0, 0, 1, 1, 1, 1, 1, 0, 0, 0, 0, 0, 0, 0,\n",
       "       1, 0, 0, 1, 1, 1, 0, 1, 1, 0, 1, 1, 0, 0, 0, 1, 0, 0, 1, 0, 1, 0,\n",
       "       0, 0, 1, 0, 0, 0, 0, 0, 1, 0, 1, 0, 0, 0, 0, 0, 0, 0, 1, 1, 1, 0,\n",
       "       0, 1, 0, 0, 0, 1, 1, 0, 1, 0, 0, 0, 0, 1, 0, 0, 0, 1, 1, 0, 0, 1,\n",
       "       0, 0, 1, 0, 0, 0, 0, 1, 0, 1, 1, 0, 0, 1, 1, 0, 1, 1, 0, 1, 1, 1,\n",
       "       0, 0, 0, 1, 0, 1, 1, 0, 1, 0, 0, 0, 1, 0, 0, 1, 0, 0, 0, 0, 0, 0,\n",
       "       0, 0, 0, 0, 0, 1, 0, 1, 0, 0, 0, 0, 0, 0, 0, 0, 0, 0, 0, 1, 0, 0,\n",
       "       0, 0, 0, 0, 0, 0, 0, 1, 0, 0, 0, 1, 0, 1, 0, 0, 0, 0, 0, 0, 0, 0,\n",
       "       1, 0, 0, 0, 0, 1, 0, 0, 1, 0, 0, 0, 0, 0, 1, 0, 0, 1, 1, 0, 0, 1,\n",
       "       0, 0, 0, 0, 0, 0, 0, 0, 0, 0, 1, 0, 0, 1, 0, 0, 0, 0, 0, 1, 0, 0,\n",
       "       0, 0, 0, 0, 0, 0, 0, 0, 0, 0, 0, 0, 0, 0, 0, 0, 0, 0, 0, 1, 0, 0,\n",
       "       1, 0, 0, 0, 0, 0, 1, 0, 0, 1, 0, 0, 0, 0, 0, 0, 0, 0, 0, 0, 0, 1,\n",
       "       0, 0, 1, 0, 0, 0, 0, 0, 0, 0, 1, 0, 0, 0, 1, 0, 0, 0, 0, 0, 0, 0,\n",
       "       1, 0, 0, 0, 0, 0, 0, 0, 1, 0, 0, 1, 0, 0, 0, 0, 0, 0, 0, 0, 0, 0,\n",
       "       0, 0, 0, 0, 0, 0, 0, 0, 0, 0, 0, 0, 0, 0, 0, 0, 0, 1, 1, 0, 0, 0,\n",
       "       0, 0, 0, 0, 0, 0, 0, 0, 0, 0, 0, 0, 0, 0, 0, 0, 1, 0, 0, 1, 1, 0,\n",
       "       0, 1, 0, 0, 0, 1, 0, 0, 0, 0, 0, 0, 0, 0, 0, 1, 0, 0, 1, 0, 0, 0,\n",
       "       0, 0, 0, 0, 0, 0, 0, 1, 0, 1, 0, 0, 0, 0, 0, 0, 0, 0, 0, 0, 0, 0,\n",
       "       1, 0, 0, 0, 0, 0, 1, 0, 0, 1, 0, 0, 0, 0, 0, 0, 0, 0, 0, 0, 0, 0,\n",
       "       0, 0, 0, 1, 0, 0, 0, 0, 0, 0, 1, 0, 1, 0, 0, 0, 0, 0, 0, 0, 0, 0,\n",
       "       0, 0, 0, 0, 1, 0, 1, 0, 0, 0, 0, 0, 0, 0, 0, 0, 0, 0, 0, 0, 0, 0,\n",
       "       0, 0, 0, 0, 0, 1, 0, 0, 0, 1, 1, 1, 0, 0, 0, 0, 0, 0, 0, 0, 0, 0,\n",
       "       1, 0, 0, 0, 0, 0, 0, 0, 0, 0, 0, 0, 0, 1, 0, 0, 0, 0, 0, 0, 0, 1,\n",
       "       0, 0, 1, 0, 1, 0, 0, 0, 0, 0, 0, 0, 0, 0, 0, 0, 0, 0, 0, 0, 0, 0,\n",
       "       0, 0, 0, 0, 0, 0, 0, 0, 0, 1, 0, 0, 0, 1, 1, 1, 0, 1, 1, 0, 0, 0,\n",
       "       0, 0, 0, 1, 0, 0, 0, 0, 0, 0, 1, 0, 0, 0, 0, 1, 0, 0, 0, 1, 0, 0,\n",
       "       0, 0, 0, 0, 0, 0, 0, 0, 0, 0, 1, 1, 0, 1, 0, 0, 0, 0, 1, 0, 1, 0,\n",
       "       1, 0, 0, 0, 0, 0, 0, 0, 1, 1, 0, 0, 0, 0, 0, 1, 0, 0, 0, 0, 0, 1,\n",
       "       0, 0, 1, 1, 1, 1, 1, 1, 1, 1, 1, 1, 1, 0, 1, 0, 0, 0, 1, 0, 1, 0,\n",
       "       1, 0, 0, 1, 0, 1, 1, 0, 1, 1, 1, 1, 1, 1, 1, 1, 1, 1, 1, 1, 0, 1,\n",
       "       1, 0, 1, 1, 0, 1, 0, 0, 0, 0, 0, 0, 0, 0, 0, 1, 0, 1, 1, 1, 1, 1,\n",
       "       1, 1, 1, 1, 1, 1, 1, 1, 1, 1, 1, 1, 1, 1, 1, 1, 1, 1, 1, 1, 1, 1,\n",
       "       1, 1, 1, 1, 1, 1, 1, 1, 1, 1, 1, 1, 1, 1, 1, 1, 1, 1, 1, 1, 1, 0,\n",
       "       0, 0, 0, 0, 0, 0, 0, 0, 0, 0, 0, 0, 0, 0, 0, 0, 0, 0, 0, 0, 0, 0,\n",
       "       0, 0, 0, 0, 0, 0, 0, 0, 0, 0, 0, 0, 0, 0, 0, 0, 0, 0, 0, 0, 0, 0,\n",
       "       0, 0], dtype=int64)"
      ]
     },
     "execution_count": 55,
     "metadata": {},
     "output_type": "execute_result"
    }
   ],
   "source": [
    "predictions"
   ]
  },
  {
   "cell_type": "code",
   "execution_count": 35,
   "id": "18bfac47",
   "metadata": {},
   "outputs": [
    {
     "data": {
      "text/plain": [
       "816"
      ]
     },
     "execution_count": 35,
     "metadata": {},
     "output_type": "execute_result"
    }
   ],
   "source": [
    "len(predictions)"
   ]
  },
  {
   "cell_type": "code",
   "execution_count": 57,
   "id": "2c423f00",
   "metadata": {},
   "outputs": [],
   "source": [
    "actual = pd.DataFrame({\"fisc_wk_id1\":[202340]*len(cust_nbr_list),\"cust_nbr1\" :cust_nbr_list})"
   ]
  },
  {
   "cell_type": "code",
   "execution_count": 58,
   "id": "2189fdff",
   "metadata": {},
   "outputs": [
    {
     "data": {
      "text/html": [
       "<div>\n",
       "<style scoped>\n",
       "    .dataframe tbody tr th:only-of-type {\n",
       "        vertical-align: middle;\n",
       "    }\n",
       "\n",
       "    .dataframe tbody tr th {\n",
       "        vertical-align: top;\n",
       "    }\n",
       "\n",
       "    .dataframe thead th {\n",
       "        text-align: right;\n",
       "    }\n",
       "</style>\n",
       "<table border=\"1\" class=\"dataframe\">\n",
       "  <thead>\n",
       "    <tr style=\"text-align: right;\">\n",
       "      <th></th>\n",
       "      <th>fisc_wk_id1</th>\n",
       "      <th>cust_nbr1</th>\n",
       "    </tr>\n",
       "  </thead>\n",
       "  <tbody>\n",
       "    <tr>\n",
       "      <th>0</th>\n",
       "      <td>202340</td>\n",
       "      <td>1628</td>\n",
       "    </tr>\n",
       "    <tr>\n",
       "      <th>1</th>\n",
       "      <td>202340</td>\n",
       "      <td>3129</td>\n",
       "    </tr>\n",
       "    <tr>\n",
       "      <th>2</th>\n",
       "      <td>202340</td>\n",
       "      <td>10470</td>\n",
       "    </tr>\n",
       "    <tr>\n",
       "      <th>3</th>\n",
       "      <td>202340</td>\n",
       "      <td>11759</td>\n",
       "    </tr>\n",
       "    <tr>\n",
       "      <th>4</th>\n",
       "      <td>202340</td>\n",
       "      <td>11846</td>\n",
       "    </tr>\n",
       "    <tr>\n",
       "      <th>...</th>\n",
       "      <td>...</td>\n",
       "      <td>...</td>\n",
       "    </tr>\n",
       "    <tr>\n",
       "      <th>811</th>\n",
       "      <td>202340</td>\n",
       "      <td>35014</td>\n",
       "    </tr>\n",
       "    <tr>\n",
       "      <th>812</th>\n",
       "      <td>202340</td>\n",
       "      <td>16491</td>\n",
       "    </tr>\n",
       "    <tr>\n",
       "      <th>813</th>\n",
       "      <td>202340</td>\n",
       "      <td>35487</td>\n",
       "    </tr>\n",
       "    <tr>\n",
       "      <th>814</th>\n",
       "      <td>202340</td>\n",
       "      <td>19362</td>\n",
       "    </tr>\n",
       "    <tr>\n",
       "      <th>815</th>\n",
       "      <td>202340</td>\n",
       "      <td>945998</td>\n",
       "    </tr>\n",
       "  </tbody>\n",
       "</table>\n",
       "<p>816 rows × 2 columns</p>\n",
       "</div>"
      ],
      "text/plain": [
       "     fisc_wk_id1  cust_nbr1\n",
       "0         202340       1628\n",
       "1         202340       3129\n",
       "2         202340      10470\n",
       "3         202340      11759\n",
       "4         202340      11846\n",
       "..           ...        ...\n",
       "811       202340      35014\n",
       "812       202340      16491\n",
       "813       202340      35487\n",
       "814       202340      19362\n",
       "815       202340     945998\n",
       "\n",
       "[816 rows x 2 columns]"
      ]
     },
     "execution_count": 58,
     "metadata": {},
     "output_type": "execute_result"
    }
   ],
   "source": [
    "actual"
   ]
  },
  {
   "cell_type": "code",
   "execution_count": 59,
   "id": "be5bda3c",
   "metadata": {},
   "outputs": [],
   "source": [
    "actual = actual.merge(wk_40[[\"fisc_wk_id\",\"cust_nbr\"]], \n",
    "             left_on = [\"fisc_wk_id1\",\"cust_nbr1\"] ,\n",
    "             right_on = [\"fisc_wk_id\",\"cust_nbr\"], \n",
    "             how = \"left\")"
   ]
  },
  {
   "cell_type": "code",
   "execution_count": 61,
   "id": "b2972562",
   "metadata": {},
   "outputs": [
    {
     "data": {
      "text/html": [
       "<div>\n",
       "<style scoped>\n",
       "    .dataframe tbody tr th:only-of-type {\n",
       "        vertical-align: middle;\n",
       "    }\n",
       "\n",
       "    .dataframe tbody tr th {\n",
       "        vertical-align: top;\n",
       "    }\n",
       "\n",
       "    .dataframe thead th {\n",
       "        text-align: right;\n",
       "    }\n",
       "</style>\n",
       "<table border=\"1\" class=\"dataframe\">\n",
       "  <thead>\n",
       "    <tr style=\"text-align: right;\">\n",
       "      <th></th>\n",
       "      <th>fisc_wk_id1</th>\n",
       "      <th>cust_nbr1</th>\n",
       "      <th>fisc_wk_id</th>\n",
       "      <th>cust_nbr</th>\n",
       "    </tr>\n",
       "  </thead>\n",
       "  <tbody>\n",
       "    <tr>\n",
       "      <th>0</th>\n",
       "      <td>202340</td>\n",
       "      <td>1628</td>\n",
       "      <td>NaN</td>\n",
       "      <td>NaN</td>\n",
       "    </tr>\n",
       "    <tr>\n",
       "      <th>1</th>\n",
       "      <td>202340</td>\n",
       "      <td>3129</td>\n",
       "      <td>NaN</td>\n",
       "      <td>NaN</td>\n",
       "    </tr>\n",
       "    <tr>\n",
       "      <th>2</th>\n",
       "      <td>202340</td>\n",
       "      <td>10470</td>\n",
       "      <td>NaN</td>\n",
       "      <td>NaN</td>\n",
       "    </tr>\n",
       "    <tr>\n",
       "      <th>3</th>\n",
       "      <td>202340</td>\n",
       "      <td>11759</td>\n",
       "      <td>NaN</td>\n",
       "      <td>NaN</td>\n",
       "    </tr>\n",
       "    <tr>\n",
       "      <th>4</th>\n",
       "      <td>202340</td>\n",
       "      <td>11846</td>\n",
       "      <td>202340.0</td>\n",
       "      <td>11846.0</td>\n",
       "    </tr>\n",
       "    <tr>\n",
       "      <th>...</th>\n",
       "      <td>...</td>\n",
       "      <td>...</td>\n",
       "      <td>...</td>\n",
       "      <td>...</td>\n",
       "    </tr>\n",
       "    <tr>\n",
       "      <th>811</th>\n",
       "      <td>202340</td>\n",
       "      <td>35014</td>\n",
       "      <td>NaN</td>\n",
       "      <td>NaN</td>\n",
       "    </tr>\n",
       "    <tr>\n",
       "      <th>812</th>\n",
       "      <td>202340</td>\n",
       "      <td>16491</td>\n",
       "      <td>NaN</td>\n",
       "      <td>NaN</td>\n",
       "    </tr>\n",
       "    <tr>\n",
       "      <th>813</th>\n",
       "      <td>202340</td>\n",
       "      <td>35487</td>\n",
       "      <td>NaN</td>\n",
       "      <td>NaN</td>\n",
       "    </tr>\n",
       "    <tr>\n",
       "      <th>814</th>\n",
       "      <td>202340</td>\n",
       "      <td>19362</td>\n",
       "      <td>NaN</td>\n",
       "      <td>NaN</td>\n",
       "    </tr>\n",
       "    <tr>\n",
       "      <th>815</th>\n",
       "      <td>202340</td>\n",
       "      <td>945998</td>\n",
       "      <td>NaN</td>\n",
       "      <td>NaN</td>\n",
       "    </tr>\n",
       "  </tbody>\n",
       "</table>\n",
       "<p>816 rows × 4 columns</p>\n",
       "</div>"
      ],
      "text/plain": [
       "     fisc_wk_id1  cust_nbr1  fisc_wk_id  cust_nbr\n",
       "0         202340       1628         NaN       NaN\n",
       "1         202340       3129         NaN       NaN\n",
       "2         202340      10470         NaN       NaN\n",
       "3         202340      11759         NaN       NaN\n",
       "4         202340      11846    202340.0   11846.0\n",
       "..           ...        ...         ...       ...\n",
       "811       202340      35014         NaN       NaN\n",
       "812       202340      16491         NaN       NaN\n",
       "813       202340      35487         NaN       NaN\n",
       "814       202340      19362         NaN       NaN\n",
       "815       202340     945998         NaN       NaN\n",
       "\n",
       "[816 rows x 4 columns]"
      ]
     },
     "execution_count": 61,
     "metadata": {},
     "output_type": "execute_result"
    }
   ],
   "source": [
    "actual"
   ]
  },
  {
   "cell_type": "code",
   "execution_count": 62,
   "id": "f2b01fb0",
   "metadata": {},
   "outputs": [],
   "source": [
    "actual[\"actual_purchases\"] = 0"
   ]
  },
  {
   "cell_type": "code",
   "execution_count": 63,
   "id": "7ab1509c",
   "metadata": {},
   "outputs": [],
   "source": [
    "actual.loc[actual[\"fisc_wk_id\"].notnull(), \"actual_purchases\"] = 1"
   ]
  },
  {
   "cell_type": "code",
   "execution_count": 64,
   "id": "6f5609a4",
   "metadata": {},
   "outputs": [
    {
     "data": {
      "text/html": [
       "<div>\n",
       "<style scoped>\n",
       "    .dataframe tbody tr th:only-of-type {\n",
       "        vertical-align: middle;\n",
       "    }\n",
       "\n",
       "    .dataframe tbody tr th {\n",
       "        vertical-align: top;\n",
       "    }\n",
       "\n",
       "    .dataframe thead th {\n",
       "        text-align: right;\n",
       "    }\n",
       "</style>\n",
       "<table border=\"1\" class=\"dataframe\">\n",
       "  <thead>\n",
       "    <tr style=\"text-align: right;\">\n",
       "      <th></th>\n",
       "      <th>fisc_wk_id1</th>\n",
       "      <th>cust_nbr1</th>\n",
       "      <th>fisc_wk_id</th>\n",
       "      <th>cust_nbr</th>\n",
       "      <th>actual_purchases</th>\n",
       "    </tr>\n",
       "  </thead>\n",
       "  <tbody>\n",
       "    <tr>\n",
       "      <th>0</th>\n",
       "      <td>202340</td>\n",
       "      <td>1628</td>\n",
       "      <td>NaN</td>\n",
       "      <td>NaN</td>\n",
       "      <td>0</td>\n",
       "    </tr>\n",
       "    <tr>\n",
       "      <th>1</th>\n",
       "      <td>202340</td>\n",
       "      <td>3129</td>\n",
       "      <td>NaN</td>\n",
       "      <td>NaN</td>\n",
       "      <td>0</td>\n",
       "    </tr>\n",
       "    <tr>\n",
       "      <th>2</th>\n",
       "      <td>202340</td>\n",
       "      <td>10470</td>\n",
       "      <td>NaN</td>\n",
       "      <td>NaN</td>\n",
       "      <td>0</td>\n",
       "    </tr>\n",
       "    <tr>\n",
       "      <th>3</th>\n",
       "      <td>202340</td>\n",
       "      <td>11759</td>\n",
       "      <td>NaN</td>\n",
       "      <td>NaN</td>\n",
       "      <td>0</td>\n",
       "    </tr>\n",
       "    <tr>\n",
       "      <th>4</th>\n",
       "      <td>202340</td>\n",
       "      <td>11846</td>\n",
       "      <td>202340.0</td>\n",
       "      <td>11846.0</td>\n",
       "      <td>1</td>\n",
       "    </tr>\n",
       "    <tr>\n",
       "      <th>...</th>\n",
       "      <td>...</td>\n",
       "      <td>...</td>\n",
       "      <td>...</td>\n",
       "      <td>...</td>\n",
       "      <td>...</td>\n",
       "    </tr>\n",
       "    <tr>\n",
       "      <th>811</th>\n",
       "      <td>202340</td>\n",
       "      <td>35014</td>\n",
       "      <td>NaN</td>\n",
       "      <td>NaN</td>\n",
       "      <td>0</td>\n",
       "    </tr>\n",
       "    <tr>\n",
       "      <th>812</th>\n",
       "      <td>202340</td>\n",
       "      <td>16491</td>\n",
       "      <td>NaN</td>\n",
       "      <td>NaN</td>\n",
       "      <td>0</td>\n",
       "    </tr>\n",
       "    <tr>\n",
       "      <th>813</th>\n",
       "      <td>202340</td>\n",
       "      <td>35487</td>\n",
       "      <td>NaN</td>\n",
       "      <td>NaN</td>\n",
       "      <td>0</td>\n",
       "    </tr>\n",
       "    <tr>\n",
       "      <th>814</th>\n",
       "      <td>202340</td>\n",
       "      <td>19362</td>\n",
       "      <td>NaN</td>\n",
       "      <td>NaN</td>\n",
       "      <td>0</td>\n",
       "    </tr>\n",
       "    <tr>\n",
       "      <th>815</th>\n",
       "      <td>202340</td>\n",
       "      <td>945998</td>\n",
       "      <td>NaN</td>\n",
       "      <td>NaN</td>\n",
       "      <td>0</td>\n",
       "    </tr>\n",
       "  </tbody>\n",
       "</table>\n",
       "<p>816 rows × 5 columns</p>\n",
       "</div>"
      ],
      "text/plain": [
       "     fisc_wk_id1  cust_nbr1  fisc_wk_id  cust_nbr  actual_purchases\n",
       "0         202340       1628         NaN       NaN                 0\n",
       "1         202340       3129         NaN       NaN                 0\n",
       "2         202340      10470         NaN       NaN                 0\n",
       "3         202340      11759         NaN       NaN                 0\n",
       "4         202340      11846    202340.0   11846.0                 1\n",
       "..           ...        ...         ...       ...               ...\n",
       "811       202340      35014         NaN       NaN                 0\n",
       "812       202340      16491         NaN       NaN                 0\n",
       "813       202340      35487         NaN       NaN                 0\n",
       "814       202340      19362         NaN       NaN                 0\n",
       "815       202340     945998         NaN       NaN                 0\n",
       "\n",
       "[816 rows x 5 columns]"
      ]
     },
     "execution_count": 64,
     "metadata": {},
     "output_type": "execute_result"
    }
   ],
   "source": [
    "actual"
   ]
  },
  {
   "cell_type": "code",
   "execution_count": 65,
   "id": "dca75225",
   "metadata": {},
   "outputs": [],
   "source": [
    "actual[\"predictions\"] = predictions"
   ]
  },
  {
   "cell_type": "code",
   "execution_count": 77,
   "id": "a54d4a97",
   "metadata": {},
   "outputs": [],
   "source": [
    "actual[\"lr_predictions\"] = lr_predictions"
   ]
  },
  {
   "cell_type": "code",
   "execution_count": 78,
   "id": "7ad89aee",
   "metadata": {},
   "outputs": [
    {
     "data": {
      "text/plain": [
       "Index(['fisc_wk_id1', 'cust_nbr1', 'fisc_wk_id', 'cust_nbr',\n",
       "       'actual_purchases', 'predictions', 'lr_predictions'],\n",
       "      dtype='object')"
      ]
     },
     "execution_count": 78,
     "metadata": {},
     "output_type": "execute_result"
    }
   ],
   "source": [
    "actual.columns"
   ]
  },
  {
   "cell_type": "code",
   "execution_count": 79,
   "id": "a1984b6e",
   "metadata": {},
   "outputs": [],
   "source": [
    "actual_predict = actual[['fisc_wk_id1', 'cust_nbr1',\n",
    "       'actual_purchases', 'predictions', 'lr_predictions']]"
   ]
  },
  {
   "cell_type": "code",
   "execution_count": 80,
   "id": "cd35ea95",
   "metadata": {},
   "outputs": [
    {
     "data": {
      "text/html": [
       "<div>\n",
       "<style scoped>\n",
       "    .dataframe tbody tr th:only-of-type {\n",
       "        vertical-align: middle;\n",
       "    }\n",
       "\n",
       "    .dataframe tbody tr th {\n",
       "        vertical-align: top;\n",
       "    }\n",
       "\n",
       "    .dataframe thead th {\n",
       "        text-align: right;\n",
       "    }\n",
       "</style>\n",
       "<table border=\"1\" class=\"dataframe\">\n",
       "  <thead>\n",
       "    <tr style=\"text-align: right;\">\n",
       "      <th></th>\n",
       "      <th>fisc_wk_id1</th>\n",
       "      <th>cust_nbr1</th>\n",
       "      <th>fisc_wk_id</th>\n",
       "      <th>cust_nbr</th>\n",
       "      <th>actual_purchases</th>\n",
       "      <th>predictions</th>\n",
       "      <th>lr_predictions</th>\n",
       "    </tr>\n",
       "  </thead>\n",
       "  <tbody>\n",
       "    <tr>\n",
       "      <th>0</th>\n",
       "      <td>202340</td>\n",
       "      <td>1628</td>\n",
       "      <td>NaN</td>\n",
       "      <td>NaN</td>\n",
       "      <td>0</td>\n",
       "      <td>0</td>\n",
       "      <td>0</td>\n",
       "    </tr>\n",
       "    <tr>\n",
       "      <th>1</th>\n",
       "      <td>202340</td>\n",
       "      <td>3129</td>\n",
       "      <td>NaN</td>\n",
       "      <td>NaN</td>\n",
       "      <td>0</td>\n",
       "      <td>0</td>\n",
       "      <td>0</td>\n",
       "    </tr>\n",
       "    <tr>\n",
       "      <th>2</th>\n",
       "      <td>202340</td>\n",
       "      <td>10470</td>\n",
       "      <td>NaN</td>\n",
       "      <td>NaN</td>\n",
       "      <td>0</td>\n",
       "      <td>0</td>\n",
       "      <td>0</td>\n",
       "    </tr>\n",
       "    <tr>\n",
       "      <th>3</th>\n",
       "      <td>202340</td>\n",
       "      <td>11759</td>\n",
       "      <td>NaN</td>\n",
       "      <td>NaN</td>\n",
       "      <td>0</td>\n",
       "      <td>0</td>\n",
       "      <td>0</td>\n",
       "    </tr>\n",
       "    <tr>\n",
       "      <th>4</th>\n",
       "      <td>202340</td>\n",
       "      <td>11846</td>\n",
       "      <td>202340.0</td>\n",
       "      <td>11846.0</td>\n",
       "      <td>1</td>\n",
       "      <td>1</td>\n",
       "      <td>0</td>\n",
       "    </tr>\n",
       "    <tr>\n",
       "      <th>...</th>\n",
       "      <td>...</td>\n",
       "      <td>...</td>\n",
       "      <td>...</td>\n",
       "      <td>...</td>\n",
       "      <td>...</td>\n",
       "      <td>...</td>\n",
       "      <td>...</td>\n",
       "    </tr>\n",
       "    <tr>\n",
       "      <th>811</th>\n",
       "      <td>202340</td>\n",
       "      <td>35014</td>\n",
       "      <td>NaN</td>\n",
       "      <td>NaN</td>\n",
       "      <td>0</td>\n",
       "      <td>0</td>\n",
       "      <td>0</td>\n",
       "    </tr>\n",
       "    <tr>\n",
       "      <th>812</th>\n",
       "      <td>202340</td>\n",
       "      <td>16491</td>\n",
       "      <td>NaN</td>\n",
       "      <td>NaN</td>\n",
       "      <td>0</td>\n",
       "      <td>0</td>\n",
       "      <td>0</td>\n",
       "    </tr>\n",
       "    <tr>\n",
       "      <th>813</th>\n",
       "      <td>202340</td>\n",
       "      <td>35487</td>\n",
       "      <td>NaN</td>\n",
       "      <td>NaN</td>\n",
       "      <td>0</td>\n",
       "      <td>0</td>\n",
       "      <td>0</td>\n",
       "    </tr>\n",
       "    <tr>\n",
       "      <th>814</th>\n",
       "      <td>202340</td>\n",
       "      <td>19362</td>\n",
       "      <td>NaN</td>\n",
       "      <td>NaN</td>\n",
       "      <td>0</td>\n",
       "      <td>0</td>\n",
       "      <td>0</td>\n",
       "    </tr>\n",
       "    <tr>\n",
       "      <th>815</th>\n",
       "      <td>202340</td>\n",
       "      <td>945998</td>\n",
       "      <td>NaN</td>\n",
       "      <td>NaN</td>\n",
       "      <td>0</td>\n",
       "      <td>0</td>\n",
       "      <td>0</td>\n",
       "    </tr>\n",
       "  </tbody>\n",
       "</table>\n",
       "<p>816 rows × 7 columns</p>\n",
       "</div>"
      ],
      "text/plain": [
       "     fisc_wk_id1  cust_nbr1  fisc_wk_id  cust_nbr  actual_purchases  \\\n",
       "0         202340       1628         NaN       NaN                 0   \n",
       "1         202340       3129         NaN       NaN                 0   \n",
       "2         202340      10470         NaN       NaN                 0   \n",
       "3         202340      11759         NaN       NaN                 0   \n",
       "4         202340      11846    202340.0   11846.0                 1   \n",
       "..           ...        ...         ...       ...               ...   \n",
       "811       202340      35014         NaN       NaN                 0   \n",
       "812       202340      16491         NaN       NaN                 0   \n",
       "813       202340      35487         NaN       NaN                 0   \n",
       "814       202340      19362         NaN       NaN                 0   \n",
       "815       202340     945998         NaN       NaN                 0   \n",
       "\n",
       "     predictions  lr_predictions  \n",
       "0              0               0  \n",
       "1              0               0  \n",
       "2              0               0  \n",
       "3              0               0  \n",
       "4              1               0  \n",
       "..           ...             ...  \n",
       "811            0               0  \n",
       "812            0               0  \n",
       "813            0               0  \n",
       "814            0               0  \n",
       "815            0               0  \n",
       "\n",
       "[816 rows x 7 columns]"
      ]
     },
     "execution_count": 80,
     "metadata": {},
     "output_type": "execute_result"
    }
   ],
   "source": [
    "actual"
   ]
  },
  {
   "cell_type": "code",
   "execution_count": 81,
   "id": "5a9c673d",
   "metadata": {},
   "outputs": [
    {
     "name": "stderr",
     "output_type": "stream",
     "text": [
      "C:\\Users\\Waqas\\AppData\\Local\\Temp\\ipykernel_18172\\1366138699.py:1: SettingWithCopyWarning: \n",
      "A value is trying to be set on a copy of a slice from a DataFrame.\n",
      "Try using .loc[row_indexer,col_indexer] = value instead\n",
      "\n",
      "See the caveats in the documentation: https://pandas.pydata.org/pandas-docs/stable/user_guide/indexing.html#returning-a-view-versus-a-copy\n",
      "  actual_predict[\"matches\"] = actual_predict[\"actual_purchases\"] == actual_predict[\"predictions\"]\n"
     ]
    }
   ],
   "source": [
    "actual_predict[\"matches\"] = actual_predict[\"actual_purchases\"] == actual_predict[\"predictions\"]"
   ]
  },
  {
   "cell_type": "code",
   "execution_count": 84,
   "id": "07d44bfc",
   "metadata": {},
   "outputs": [],
   "source": [
    "actual_predict[\"lr_matches\"] = actual_predict[\"actual_purchases\"] == actual_predict[\"lr_predictions\"]"
   ]
  },
  {
   "cell_type": "code",
   "execution_count": 85,
   "id": "31821010",
   "metadata": {},
   "outputs": [
    {
     "data": {
      "text/html": [
       "<div>\n",
       "<style scoped>\n",
       "    .dataframe tbody tr th:only-of-type {\n",
       "        vertical-align: middle;\n",
       "    }\n",
       "\n",
       "    .dataframe tbody tr th {\n",
       "        vertical-align: top;\n",
       "    }\n",
       "\n",
       "    .dataframe thead th {\n",
       "        text-align: right;\n",
       "    }\n",
       "</style>\n",
       "<table border=\"1\" class=\"dataframe\">\n",
       "  <thead>\n",
       "    <tr style=\"text-align: right;\">\n",
       "      <th></th>\n",
       "      <th>fisc_wk_id1</th>\n",
       "      <th>cust_nbr1</th>\n",
       "      <th>actual_purchases</th>\n",
       "      <th>predictions</th>\n",
       "      <th>lr_predictions</th>\n",
       "      <th>matches</th>\n",
       "      <th>lr_matches</th>\n",
       "    </tr>\n",
       "  </thead>\n",
       "  <tbody>\n",
       "    <tr>\n",
       "      <th>0</th>\n",
       "      <td>202340</td>\n",
       "      <td>1628</td>\n",
       "      <td>0</td>\n",
       "      <td>0</td>\n",
       "      <td>0</td>\n",
       "      <td>True</td>\n",
       "      <td>True</td>\n",
       "    </tr>\n",
       "    <tr>\n",
       "      <th>1</th>\n",
       "      <td>202340</td>\n",
       "      <td>3129</td>\n",
       "      <td>0</td>\n",
       "      <td>0</td>\n",
       "      <td>0</td>\n",
       "      <td>True</td>\n",
       "      <td>True</td>\n",
       "    </tr>\n",
       "    <tr>\n",
       "      <th>2</th>\n",
       "      <td>202340</td>\n",
       "      <td>10470</td>\n",
       "      <td>0</td>\n",
       "      <td>0</td>\n",
       "      <td>0</td>\n",
       "      <td>True</td>\n",
       "      <td>True</td>\n",
       "    </tr>\n",
       "    <tr>\n",
       "      <th>3</th>\n",
       "      <td>202340</td>\n",
       "      <td>11759</td>\n",
       "      <td>0</td>\n",
       "      <td>0</td>\n",
       "      <td>0</td>\n",
       "      <td>True</td>\n",
       "      <td>True</td>\n",
       "    </tr>\n",
       "    <tr>\n",
       "      <th>4</th>\n",
       "      <td>202340</td>\n",
       "      <td>11846</td>\n",
       "      <td>1</td>\n",
       "      <td>1</td>\n",
       "      <td>0</td>\n",
       "      <td>True</td>\n",
       "      <td>False</td>\n",
       "    </tr>\n",
       "    <tr>\n",
       "      <th>...</th>\n",
       "      <td>...</td>\n",
       "      <td>...</td>\n",
       "      <td>...</td>\n",
       "      <td>...</td>\n",
       "      <td>...</td>\n",
       "      <td>...</td>\n",
       "      <td>...</td>\n",
       "    </tr>\n",
       "    <tr>\n",
       "      <th>811</th>\n",
       "      <td>202340</td>\n",
       "      <td>35014</td>\n",
       "      <td>0</td>\n",
       "      <td>0</td>\n",
       "      <td>0</td>\n",
       "      <td>True</td>\n",
       "      <td>True</td>\n",
       "    </tr>\n",
       "    <tr>\n",
       "      <th>812</th>\n",
       "      <td>202340</td>\n",
       "      <td>16491</td>\n",
       "      <td>0</td>\n",
       "      <td>0</td>\n",
       "      <td>0</td>\n",
       "      <td>True</td>\n",
       "      <td>True</td>\n",
       "    </tr>\n",
       "    <tr>\n",
       "      <th>813</th>\n",
       "      <td>202340</td>\n",
       "      <td>35487</td>\n",
       "      <td>0</td>\n",
       "      <td>0</td>\n",
       "      <td>0</td>\n",
       "      <td>True</td>\n",
       "      <td>True</td>\n",
       "    </tr>\n",
       "    <tr>\n",
       "      <th>814</th>\n",
       "      <td>202340</td>\n",
       "      <td>19362</td>\n",
       "      <td>0</td>\n",
       "      <td>0</td>\n",
       "      <td>0</td>\n",
       "      <td>True</td>\n",
       "      <td>True</td>\n",
       "    </tr>\n",
       "    <tr>\n",
       "      <th>815</th>\n",
       "      <td>202340</td>\n",
       "      <td>945998</td>\n",
       "      <td>0</td>\n",
       "      <td>0</td>\n",
       "      <td>0</td>\n",
       "      <td>True</td>\n",
       "      <td>True</td>\n",
       "    </tr>\n",
       "  </tbody>\n",
       "</table>\n",
       "<p>816 rows × 7 columns</p>\n",
       "</div>"
      ],
      "text/plain": [
       "     fisc_wk_id1  cust_nbr1  actual_purchases  predictions  lr_predictions  \\\n",
       "0         202340       1628                 0            0               0   \n",
       "1         202340       3129                 0            0               0   \n",
       "2         202340      10470                 0            0               0   \n",
       "3         202340      11759                 0            0               0   \n",
       "4         202340      11846                 1            1               0   \n",
       "..           ...        ...               ...          ...             ...   \n",
       "811       202340      35014                 0            0               0   \n",
       "812       202340      16491                 0            0               0   \n",
       "813       202340      35487                 0            0               0   \n",
       "814       202340      19362                 0            0               0   \n",
       "815       202340     945998                 0            0               0   \n",
       "\n",
       "     matches  lr_matches  \n",
       "0       True        True  \n",
       "1       True        True  \n",
       "2       True        True  \n",
       "3       True        True  \n",
       "4       True       False  \n",
       "..       ...         ...  \n",
       "811     True        True  \n",
       "812     True        True  \n",
       "813     True        True  \n",
       "814     True        True  \n",
       "815     True        True  \n",
       "\n",
       "[816 rows x 7 columns]"
      ]
     },
     "execution_count": 85,
     "metadata": {},
     "output_type": "execute_result"
    }
   ],
   "source": [
    "actual_predict"
   ]
  },
  {
   "cell_type": "code",
   "execution_count": 83,
   "id": "7cf8b934",
   "metadata": {},
   "outputs": [],
   "source": [
    "actual_predict.to_csv(\"complete_report_202340.csv\", index = False)"
   ]
  },
  {
   "cell_type": "code",
   "execution_count": 46,
   "id": "c9e46c3c",
   "metadata": {},
   "outputs": [],
   "source": [
    "accuracy = actual_predict[\"matches\"].sum()/len(actual_predict)"
   ]
  },
  {
   "cell_type": "code",
   "execution_count": 47,
   "id": "ef2416b6",
   "metadata": {},
   "outputs": [
    {
     "data": {
      "text/plain": [
       "0.8394607843137255"
      ]
     },
     "execution_count": 47,
     "metadata": {},
     "output_type": "execute_result"
    }
   ],
   "source": [
    "accuracy"
   ]
  },
  {
   "cell_type": "code",
   "execution_count": 86,
   "id": "25f2df50",
   "metadata": {},
   "outputs": [
    {
     "data": {
      "text/plain": [
       "0.7696078431372549"
      ]
     },
     "execution_count": 86,
     "metadata": {},
     "output_type": "execute_result"
    }
   ],
   "source": [
    "lr_accuracy = actual_predict[\"lr_matches\"].sum()/len(actual_predict)\n",
    "lr_accuracy"
   ]
  },
  {
   "cell_type": "code",
   "execution_count": 48,
   "id": "5f964bda",
   "metadata": {},
   "outputs": [],
   "source": [
    "# customer who will expect to buy in Fisc_wk_id = 202340 according to their purchasing pattern.\n",
    "\n",
    "expect = actual_predict[actual_predict[\"predictions\"]== 1][\"cust_nbr1\"]"
   ]
  },
  {
   "cell_type": "code",
   "execution_count": 49,
   "id": "50fc4fb3",
   "metadata": {},
   "outputs": [],
   "source": [
    "expect.to_csv(\"expect_buy_202340.csv\", index = False)"
   ]
  },
  {
   "cell_type": "code",
   "execution_count": 50,
   "id": "de37774e",
   "metadata": {},
   "outputs": [],
   "source": [
    "# customer who actually buy in Fisc_wk_id = 202340\n",
    "\n",
    "actually_buy = actual_predict[actual_predict[\"actual_purchases\"]== 1][\"cust_nbr1\"]"
   ]
  },
  {
   "cell_type": "code",
   "execution_count": 51,
   "id": "13762609",
   "metadata": {},
   "outputs": [],
   "source": [
    "actually_buy.to_csv(\"actual_buy_202340.csv\", index = False)"
   ]
  },
  {
   "cell_type": "code",
   "execution_count": 52,
   "id": "90eea5f2",
   "metadata": {},
   "outputs": [],
   "source": [
    "\n",
    "churned = actual[(actual_predict[\"actual_purchases\"]== 0) & (actual_predict[\"predictions\"]== 1)][\"cust_nbr1\"]"
   ]
  },
  {
   "cell_type": "code",
   "execution_count": 53,
   "id": "52ea04a8",
   "metadata": {},
   "outputs": [],
   "source": [
    "churned.to_csv(\"customer_churned_202340.csv\", index = False)"
   ]
  },
  {
   "cell_type": "code",
   "execution_count": null,
   "id": "c504536b",
   "metadata": {},
   "outputs": [],
   "source": []
  },
  {
   "cell_type": "code",
   "execution_count": null,
   "id": "c5087910",
   "metadata": {},
   "outputs": [],
   "source": []
  }
 ],
 "metadata": {
  "kernelspec": {
   "display_name": "Python 3 (ipykernel)",
   "language": "python",
   "name": "python3"
  },
  "language_info": {
   "codemirror_mode": {
    "name": "ipython",
    "version": 3
   },
   "file_extension": ".py",
   "mimetype": "text/x-python",
   "name": "python",
   "nbconvert_exporter": "python",
   "pygments_lexer": "ipython3",
   "version": "3.10.9"
  }
 },
 "nbformat": 4,
 "nbformat_minor": 5
}
