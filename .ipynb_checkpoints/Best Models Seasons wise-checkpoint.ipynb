{
 "cells": [
  {
   "cell_type": "code",
   "execution_count": 1,
   "id": "c932212d",
   "metadata": {},
   "outputs": [],
   "source": [
    "import pandas as pd\n",
    "import numpy as np\n",
    "import math\n",
    "\n",
    "import pandas as pd\n",
    "import numpy as np\n",
    "from sklearn.linear_model import LinearRegression, Lasso, Ridge, ElasticNet\n",
    "from sklearn.compose import TransformedTargetRegressor\n",
    "from sklearn.pipeline import Pipeline\n",
    "from sklearn.preprocessing import StandardScaler\n",
    "from sklearn.impute import SimpleImputer\n",
    "from sklearn.model_selection import GridSearchCV, KFold\n",
    "from sklearn.metrics import mean_squared_error, r2_score\n",
    "from sklearn.compose import ColumnTransformer"
   ]
  },
  {
   "cell_type": "code",
   "execution_count": 2,
   "id": "d67ac2a8",
   "metadata": {},
   "outputs": [],
   "source": [
    "df = pd.read_csv(\"elastic_df.csv\")\n",
    "cal_wk = pd.read_csv(\"cal_wk.csv\")\n",
    "data = pd.read_excel('chicken_db.xlsx')"
   ]
  },
  {
   "cell_type": "code",
   "execution_count": 3,
   "id": "4ec04381",
   "metadata": {},
   "outputs": [],
   "source": [
    "scope_data1 = df.merge(cal_wk, left_on = \"cal_mo_id\", right_on =\"fisc_wk_id\")"
   ]
  },
  {
   "cell_type": "code",
   "execution_count": 4,
   "id": "13f7adc3",
   "metadata": {},
   "outputs": [],
   "source": [
    "data[\"month\"] = pd.to_datetime(data[\"month\"], format = \"%Y %b\").dt.strftime(\"%Y%m\").astype(int)"
   ]
  },
  {
   "cell_type": "code",
   "execution_count": 5,
   "id": "9a7eb3a3",
   "metadata": {},
   "outputs": [],
   "source": [
    "data = data.rename(columns={'month': 'cal_mo_id'})"
   ]
  },
  {
   "cell_type": "code",
   "execution_count": 6,
   "id": "11587d46",
   "metadata": {},
   "outputs": [],
   "source": [
    "scope_data = scope_data1.merge(data[['cal_mo_id', 'value']], on='cal_mo_id', how='left')"
   ]
  },
  {
   "cell_type": "code",
   "execution_count": 7,
   "id": "5fc59418",
   "metadata": {},
   "outputs": [],
   "source": [
    "scope_data['fisc_wk_strt_dt'] = pd.to_datetime(scope_data['fisc_wk_strt_dt'])"
   ]
  },
  {
   "cell_type": "code",
   "execution_count": 8,
   "id": "b717fefd",
   "metadata": {},
   "outputs": [],
   "source": [
    "scope_data['month'] = scope_data['fisc_wk_strt_dt'].dt.month\n",
    "scope_data['year'] = scope_data['fisc_wk_strt_dt'].dt.year"
   ]
  },
  {
   "cell_type": "code",
   "execution_count": 9,
   "id": "9e5ebf2f",
   "metadata": {},
   "outputs": [],
   "source": [
    "scope_data['week_of_month'] = scope_data['fisc_wk_strt_dt'].apply(lambda x: (x.day-1) // 7 + 1)"
   ]
  },
  {
   "cell_type": "code",
   "execution_count": 10,
   "id": "68d373ec",
   "metadata": {},
   "outputs": [],
   "source": [
    "scope_data = (\n",
    "    scope_data.groupby(['fisc_wk_strt_dt', 'month', 'year', 'week_of_month', 'mkt_lvl', 'value'], as_index=False)\n",
    "    .agg(total_wgt=('total_wgt', 'sum'),total_sales=('total_sales', 'sum'))\n",
    "             )"
   ]
  },
  {
   "cell_type": "code",
   "execution_count": 11,
   "id": "bec289d7",
   "metadata": {},
   "outputs": [],
   "source": [
    "# Calculate additional metrics\n",
    "scope_data['avg_unit_price'] = scope_data['total_sales'] / scope_data['total_wgt']\n",
    "scope_data['avg_unit_price_adj'] = (scope_data['avg_unit_price'] / scope_data['value']) * 100\n"
   ]
  },
  {
   "cell_type": "code",
   "execution_count": 12,
   "id": "300f91f2",
   "metadata": {},
   "outputs": [],
   "source": [
    "scope_data['log_price'] = np.log(scope_data['avg_unit_price_adj'])\n",
    "scope_data['log_units'] = np.log(scope_data['total_wgt'])"
   ]
  },
  {
   "cell_type": "code",
   "execution_count": 13,
   "id": "42f78ece",
   "metadata": {},
   "outputs": [],
   "source": [
    "scope_data = pd.read_csv(\"scope_data.csv\")"
   ]
  },
  {
   "cell_type": "code",
   "execution_count": 14,
   "id": "f88ec0b8",
   "metadata": {},
   "outputs": [],
   "source": [
    "scope_data = scope_data.dropna()"
   ]
  },
  {
   "cell_type": "code",
   "execution_count": 15,
   "id": "a08c73ed",
   "metadata": {},
   "outputs": [],
   "source": [
    "def season(month):\n",
    "    if month in [3, 4, 5]:\n",
    "        return \"Spring\"\n",
    "    elif month in (6,7,8):\n",
    "        return \"Summer\"\n",
    "    elif month in (9,10,11):\n",
    "        return \"Fall\"\n",
    "    else:\n",
    "        return \"Winter\"\n",
    "    "
   ]
  },
  {
   "cell_type": "code",
   "execution_count": 16,
   "id": "baa9298f",
   "metadata": {},
   "outputs": [
    {
     "data": {
      "text/plain": [
       "array([ 5,  6,  7,  8,  9, 10, 11, 12,  1,  2,  3,  4], dtype=int64)"
      ]
     },
     "execution_count": 16,
     "metadata": {},
     "output_type": "execute_result"
    }
   ],
   "source": [
    "scope_data[\"month\"].unique()"
   ]
  },
  {
   "cell_type": "code",
   "execution_count": 17,
   "id": "da888639",
   "metadata": {},
   "outputs": [],
   "source": [
    "scope_data['season'] = scope_data[\"month\"].apply(season)"
   ]
  },
  {
   "cell_type": "code",
   "execution_count": 18,
   "id": "a2c661ec",
   "metadata": {},
   "outputs": [],
   "source": [
    "def fit_elasticnet_tidymodels(data):\n",
    "    # Prepare the data\n",
    "    X = data[['log_price', 'month', 'week_of_month', 'year']]\n",
    "    y = data['log_units']\n",
    "    \n",
    "    # Define the recipe steps\n",
    "    numeric_transformer = Pipeline(steps=[\n",
    "        ('imputer', SimpleImputer(strategy='mean')),\n",
    "        ('scaler', StandardScaler())\n",
    "    ])\n",
    "    preprocessor = ColumnTransformer(\n",
    "        transformers=[\n",
    "            ('num', numeric_transformer, X.columns)\n",
    "        ])\n",
    "    \n",
    "    # Define the models and their parameters\n",
    "    models = {\n",
    "        'Linear Regression': TransformedTargetRegressor(regressor=LinearRegression(), transformer=StandardScaler()),\n",
    "        'Lasso Regression': TransformedTargetRegressor(regressor=Lasso(), transformer=StandardScaler()),\n",
    "        'Ridge Regression': TransformedTargetRegressor(regressor=Ridge(), transformer=StandardScaler()),\n",
    "        'Elastic Net Regression': TransformedTargetRegressor(regressor=ElasticNet(), transformer=StandardScaler())\n",
    "    }\n",
    "    parameters = {\n",
    "        'Linear Regression': {},\n",
    "        'Lasso Regression': {},\n",
    "        'Ridge Regression': {},\n",
    "        'Elastic Net Regression': {}\n",
    "    }\n",
    "#     parameters = {\n",
    "#         'Linear Regression': {},\n",
    "#         'Lasso Regression': {'alpha': np.logspace(-6, -1, num=20)},\n",
    "#         'Ridge Regression': {'alpha': np.logspace(-6, -1, 20)},\n",
    "#         'Elastic Net Regression': {'alpha': np.logspace(-6, -1, 20), 'l1_ratio': np.linspace(0, 1, 11)}\n",
    "#     }\n",
    "    \n",
    "    # Perform cross-validation and grid search for each model\n",
    "    results = {}\n",
    "    kf = KFold(n_splits=10, shuffle=True)\n",
    "    for name, model in models.items():\n",
    "        # print('Fitting', name)\n",
    "        pipe = Pipeline(steps=[\n",
    "            ('preprocessor', preprocessor),\n",
    "            ('regressor', model)\n",
    "        ])\n",
    "        clf = GridSearchCV(pipe, parameters[name], scoring=['neg_mean_squared_error', 'r2'], refit='neg_mean_squared_error', cv=kf)\n",
    "        clf.fit(X, y)\n",
    "        results[name] = {\n",
    "            'best_params': clf.best_params_,\n",
    "            'best_score': clf.best_score_,\n",
    "            'mse': -clf.cv_results_['mean_test_neg_mean_squared_error'][clf.best_index_],\n",
    "            'r2': clf.cv_results_['mean_test_r2'][clf.best_index_],\n",
    "            'coefficients': pd.DataFrame({'variable': X.columns, 'coef': clf.best_estimator_.named_steps[\"regressor\"].regressor_.coef_})\n",
    "        }\n",
    "    \n",
    "    # Return the results\n",
    "    return results\n"
   ]
  },
  {
   "cell_type": "code",
   "execution_count": 19,
   "id": "98aeb92c",
   "metadata": {},
   "outputs": [],
   "source": [
    "rows = []\n",
    "\n",
    "seasons = scope_data['season'].unique()\n",
    "\n",
    "for season in seasons:\n",
    "    s = scope_data[scope_data[\"season\"] == season]\n",
    "    grouped  = s.groupby(\"mkt_lvl\")\n",
    "    groups = grouped.groups.keys()\n",
    "    for group in groups:\n",
    "        region = grouped.get_group(group)\n",
    "        result = fit_elasticnet_tidymodels(region)\n",
    "        models_rmses = {}\n",
    "        for key in result.keys():\n",
    "            models_rmses[key] = np.sqrt(result[key][\"mse\"])\n",
    "        best = min(models_rmses, key = models_rmses.get)\n",
    "        rmse = models_rmses[best]\n",
    "        rows.append([season, group, best, rmse])   "
   ]
  },
  {
   "cell_type": "code",
   "execution_count": 20,
   "id": "47e0e49e",
   "metadata": {},
   "outputs": [
    {
     "data": {
      "text/html": [
       "<div>\n",
       "<style scoped>\n",
       "    .dataframe tbody tr th:only-of-type {\n",
       "        vertical-align: middle;\n",
       "    }\n",
       "\n",
       "    .dataframe tbody tr th {\n",
       "        vertical-align: top;\n",
       "    }\n",
       "\n",
       "    .dataframe thead th {\n",
       "        text-align: right;\n",
       "    }\n",
       "</style>\n",
       "<table border=\"1\" class=\"dataframe\">\n",
       "  <thead>\n",
       "    <tr style=\"text-align: right;\">\n",
       "      <th></th>\n",
       "      <th>season</th>\n",
       "      <th>mkt_lvl</th>\n",
       "      <th>best_model</th>\n",
       "      <th>rmse</th>\n",
       "    </tr>\n",
       "  </thead>\n",
       "  <tbody>\n",
       "    <tr>\n",
       "      <th>0</th>\n",
       "      <td>Spring</td>\n",
       "      <td>North</td>\n",
       "      <td>Ridge Regression</td>\n",
       "      <td>0.669645</td>\n",
       "    </tr>\n",
       "    <tr>\n",
       "      <th>1</th>\n",
       "      <td>Spring</td>\n",
       "      <td>South</td>\n",
       "      <td>Ridge Regression</td>\n",
       "      <td>0.997500</td>\n",
       "    </tr>\n",
       "    <tr>\n",
       "      <th>2</th>\n",
       "      <td>Spring</td>\n",
       "      <td>West</td>\n",
       "      <td>Ridge Regression</td>\n",
       "      <td>0.541028</td>\n",
       "    </tr>\n",
       "    <tr>\n",
       "      <th>3</th>\n",
       "      <td>Summer</td>\n",
       "      <td>North</td>\n",
       "      <td>Ridge Regression</td>\n",
       "      <td>0.643813</td>\n",
       "    </tr>\n",
       "    <tr>\n",
       "      <th>4</th>\n",
       "      <td>Summer</td>\n",
       "      <td>South</td>\n",
       "      <td>Ridge Regression</td>\n",
       "      <td>0.571214</td>\n",
       "    </tr>\n",
       "    <tr>\n",
       "      <th>5</th>\n",
       "      <td>Summer</td>\n",
       "      <td>West</td>\n",
       "      <td>Ridge Regression</td>\n",
       "      <td>0.526890</td>\n",
       "    </tr>\n",
       "    <tr>\n",
       "      <th>6</th>\n",
       "      <td>Fall</td>\n",
       "      <td>North</td>\n",
       "      <td>Ridge Regression</td>\n",
       "      <td>0.638027</td>\n",
       "    </tr>\n",
       "    <tr>\n",
       "      <th>7</th>\n",
       "      <td>Fall</td>\n",
       "      <td>South</td>\n",
       "      <td>Ridge Regression</td>\n",
       "      <td>0.542382</td>\n",
       "    </tr>\n",
       "    <tr>\n",
       "      <th>8</th>\n",
       "      <td>Fall</td>\n",
       "      <td>West</td>\n",
       "      <td>Ridge Regression</td>\n",
       "      <td>0.525815</td>\n",
       "    </tr>\n",
       "    <tr>\n",
       "      <th>9</th>\n",
       "      <td>Winter</td>\n",
       "      <td>North</td>\n",
       "      <td>Linear Regression</td>\n",
       "      <td>0.776496</td>\n",
       "    </tr>\n",
       "    <tr>\n",
       "      <th>10</th>\n",
       "      <td>Winter</td>\n",
       "      <td>South</td>\n",
       "      <td>Linear Regression</td>\n",
       "      <td>0.728769</td>\n",
       "    </tr>\n",
       "    <tr>\n",
       "      <th>11</th>\n",
       "      <td>Winter</td>\n",
       "      <td>West</td>\n",
       "      <td>Linear Regression</td>\n",
       "      <td>0.839082</td>\n",
       "    </tr>\n",
       "  </tbody>\n",
       "</table>\n",
       "</div>"
      ],
      "text/plain": [
       "    season mkt_lvl         best_model      rmse\n",
       "0   Spring   North   Ridge Regression  0.669645\n",
       "1   Spring   South   Ridge Regression  0.997500\n",
       "2   Spring    West   Ridge Regression  0.541028\n",
       "3   Summer   North   Ridge Regression  0.643813\n",
       "4   Summer   South   Ridge Regression  0.571214\n",
       "5   Summer    West   Ridge Regression  0.526890\n",
       "6     Fall   North   Ridge Regression  0.638027\n",
       "7     Fall   South   Ridge Regression  0.542382\n",
       "8     Fall    West   Ridge Regression  0.525815\n",
       "9   Winter   North  Linear Regression  0.776496\n",
       "10  Winter   South  Linear Regression  0.728769\n",
       "11  Winter    West  Linear Regression  0.839082"
      ]
     },
     "execution_count": 20,
     "metadata": {},
     "output_type": "execute_result"
    }
   ],
   "source": [
    "pd.DataFrame(rows, columns = [\"season\", \"mkt_lvl\", \"best_model\", \"rmse\"])"
   ]
  },
  {
   "cell_type": "code",
   "execution_count": null,
   "id": "8466e049",
   "metadata": {},
   "outputs": [],
   "source": []
  }
 ],
 "metadata": {
  "kernelspec": {
   "display_name": "Python 3 (ipykernel)",
   "language": "python",
   "name": "python3"
  },
  "language_info": {
   "codemirror_mode": {
    "name": "ipython",
    "version": 3
   },
   "file_extension": ".py",
   "mimetype": "text/x-python",
   "name": "python",
   "nbconvert_exporter": "python",
   "pygments_lexer": "ipython3",
   "version": "3.9.12"
  }
 },
 "nbformat": 4,
 "nbformat_minor": 5
}
